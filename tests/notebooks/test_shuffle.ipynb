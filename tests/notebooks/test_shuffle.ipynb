{
 "cells": [
  {
   "cell_type": "markdown",
   "id": "58e455d1",
   "metadata": {},
   "source": [
    "# Testing the ShuffleService"
   ]
  },
  {
   "cell_type": "code",
   "execution_count": 7,
   "id": "ac50a25c",
   "metadata": {},
   "outputs": [],
   "source": [
    "import hashlib\n",
    "from arcanum.shuffle import ShuffleService"
   ]
  },
  {
   "cell_type": "code",
   "execution_count": 8,
   "id": "9ef5feb5",
   "metadata": {},
   "outputs": [
    {
     "name": "stdout",
     "output_type": "stream",
     "text": [
      "Consistent seeds match: True\n"
     ]
    }
   ],
   "source": [
    "# Test consistency (should be same)\n",
    "seed1 = ShuffleService.generate_seed(\"Career guidance\", 5, include_date=False)\n",
    "seed2 = ShuffleService.generate_seed(\"Career guidance\", 5, include_date=False)\n",
    "print(f\"Consistent seeds match: {seed1 == seed2}\")"
   ]
  },
  {
   "cell_type": "code",
   "execution_count": 9,
   "id": "fcc79dbc",
   "metadata": {},
   "outputs": [
    {
     "name": "stdout",
     "output_type": "stream",
     "text": [
      "Today's daily seed: 2598452311\n",
      "Tomorrow's seed would be: 3606867473\n",
      "Seeds are different: True\n"
     ]
    }
   ],
   "source": [
    "# Test date-based (should be different tomorrow)\n",
    "daily1 = ShuffleService.generate_seed(\"Daily draw\", 3, include_date=True)\n",
    "print(f\"Today's daily seed: {daily1}\")\n",
    "\n",
    "# Simulate what would happen with same question but different date\n",
    "question = \"Daily draw\"\n",
    "shuffle_count = 3\n",
    "fake_date = \"2025-07-20\"  # Tomorrow\n",
    "combined = f\"{question}|{shuffle_count}|{fake_date}\"\n",
    "fake_hash = hashlib.sha256(combined.encode(\"utf-8\"))\n",
    "fake_seed = int(fake_hash.hexdigest()[:8], 16)\n",
    "print(f\"Tomorrow's seed would be: {fake_seed}\")\n",
    "print(f\"Seeds are different: {daily1 != fake_seed}\")"
   ]
  },
  {
   "cell_type": "markdown",
   "id": "a1d66b82",
   "metadata": {},
   "source": [
    "## Testing DrawingService"
   ]
  },
  {
   "cell_type": "code",
   "execution_count": 10,
   "id": "0645fce3",
   "metadata": {},
   "outputs": [],
   "source": [
    "from arcanum.deck import Deck\n",
    "from arcanum.drawing import DrawingService"
   ]
  },
  {
   "cell_type": "code",
   "execution_count": 11,
   "id": "71398f02",
   "metadata": {},
   "outputs": [],
   "source": [
    "# Set up\n",
    "deck = Deck()\n",
    "cards = deck.get_cards()\n",
    "seed = ShuffleService.generate_seed(\"Test reading\", 5)\n",
    "shuffled = ShuffleService.shuffle_cards(cards, seed)"
   ]
  },
  {
   "cell_type": "code",
   "execution_count": 12,
   "id": "5af89180",
   "metadata": {},
   "outputs": [],
   "source": [
    "# Draw some cards\n",
    "drawer = DrawingService(reversal_chance=0.5)  # 50% reversal for testing\n",
    "drawn = drawer.draw_cards(shuffled, 3, [\"Past\", \"Present\", \"Future\"])"
   ]
  },
  {
   "cell_type": "code",
   "execution_count": 13,
   "id": "25d659df",
   "metadata": {},
   "outputs": [
    {
     "name": "stdout",
     "output_type": "stream",
     "text": [
      "Past: 4 of Swords (Reversed)\n",
      "Present: Ace of Pentacles\n",
      "Future: The Emperor (Reversed)\n"
     ]
    }
   ],
   "source": [
    "for card in drawn:\n",
    "    print(card)"
   ]
  },
  {
   "cell_type": "code",
   "execution_count": 14,
   "id": "8938fba2",
   "metadata": {},
   "outputs": [],
   "source": [
    "from arcanum.spreads import SingleCardSpread, ThreeCardSpread, CelticCrossSpread\n"
   ]
  },
  {
   "cell_type": "code",
   "execution_count": 15,
   "id": "915a3c8a",
   "metadata": {},
   "outputs": [],
   "source": [
    "# Try different layouts\n",
    "single = SingleCardSpread()\n",
    "three = ThreeCardSpread()\n",
    "celtic = CelticCrossSpread()"
   ]
  },
  {
   "cell_type": "code",
   "execution_count": 16,
   "id": "69443d96",
   "metadata": {},
   "outputs": [
    {
     "name": "stdout",
     "output_type": "stream",
     "text": [
      "Single Card: 1 cards\n",
      "  Focus: The main energy or message for you\n",
      "\n",
      "Past, Present, Future: 3 cards\n",
      "  Past: Influences from your past affecting the situation\n",
      "  Present: Current energies and circumstances\n",
      "  Future: Likely outcome or direction\n"
     ]
    }
   ],
   "source": [
    "print(f\"{single.name}: {single.card_count} cards\")\n",
    "for pos in single.positions:\n",
    "    print(f\"  {pos.name}: {pos.description}\")\n",
    "\n",
    "print(f\"\\n{three.name}: {three.card_count} cards\")\n",
    "for pos in three.positions:\n",
    "    print(f\"  {pos.name}: {pos.description}\")"
   ]
  },
  {
   "cell_type": "markdown",
   "id": "6960f169",
   "metadata": {},
   "source": [
    "## Testing Reading"
   ]
  },
  {
   "cell_type": "code",
   "execution_count": 17,
   "id": "0da5ef46",
   "metadata": {},
   "outputs": [],
   "source": [
    "from arcanum.reading import ReadingService"
   ]
  },
  {
   "cell_type": "code",
   "execution_count": 18,
   "id": "aba589ce",
   "metadata": {},
   "outputs": [],
   "source": [
    "# Create reading service\n",
    "reader = ReadingService(reversal_chance=0.5)"
   ]
  },
  {
   "cell_type": "code",
   "execution_count": 19,
   "id": "274fff14",
   "metadata": {},
   "outputs": [
    {
     "name": "stdout",
     "output_type": "stream",
     "text": [
      "Question: What should I focus on this week?\n",
      "Spread: Past, Present, Future\n",
      "Date: 2025-07-19 16:46\n",
      "\n",
      "Past: 9 of Pentacles\n",
      "Present: 5 of Cups (Reversed)\n",
      "Future: The Hierophant\n",
      "\n",
      "Seed used: 1014792876\n"
     ]
    }
   ],
   "source": [
    "# Perform a reading\n",
    "reading = reader.perform_reading(\n",
    "    question=\"What should I focus on this week?\",\n",
    "    spread=three,\n",
    "    shuffle_count=5\n",
    ")\n",
    "\n",
    "print(reading)\n",
    "print(f\"\\nSeed used: {reading.seed}\")"
   ]
  },
  {
   "cell_type": "code",
   "execution_count": 20,
   "id": "fca716f0",
   "metadata": {},
   "outputs": [],
   "source": [
    "# Same question should give same result\n",
    "reading2 = reader.perform_reading(\n",
    "    question=\"What should I focus on this week?\",\n",
    "    spread=three,\n",
    "    shuffle_count=5\n",
    ")"
   ]
  },
  {
   "cell_type": "code",
   "execution_count": 21,
   "id": "d94af260",
   "metadata": {},
   "outputs": [
    {
     "name": "stdout",
     "output_type": "stream",
     "text": [
      "Readings are identical: True\n"
     ]
    }
   ],
   "source": [
    "print(f\"Readings are identical: {reading.cards[0].card.name == reading2.cards[0].card.name}\")"
   ]
  },
  {
   "cell_type": "code",
   "execution_count": null,
   "id": "a190b1ce",
   "metadata": {},
   "outputs": [],
   "source": []
  }
 ],
 "metadata": {
  "kernelspec": {
   "display_name": "arcanum",
   "language": "python",
   "name": "python3"
  },
  "language_info": {
   "codemirror_mode": {
    "name": "ipython",
    "version": 3
   },
   "file_extension": ".py",
   "mimetype": "text/x-python",
   "name": "python",
   "nbconvert_exporter": "python",
   "pygments_lexer": "ipython3",
   "version": "3.12.11"
  }
 },
 "nbformat": 4,
 "nbformat_minor": 5
}
